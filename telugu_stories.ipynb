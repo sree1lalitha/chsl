{
 "cells": [
  {
   "cell_type": "code",
   "execution_count": 1,
   "metadata": {},
   "outputs": [],
   "source": [
    "import pandas as pd\n",
    "import numpy as np\n",
    "import re"
   ]
  },
  {
   "cell_type": "code",
   "execution_count": null,
   "metadata": {},
   "outputs": [],
   "source": [
    "from textblob import TextBlob"
   ]
  },
  {
   "cell_type": "code",
   "execution_count": null,
   "metadata": {},
   "outputs": [],
   "source": [
    "blob = TextBlob(\"text\")"
   ]
  },
  {
   "cell_type": "code",
   "execution_count": null,
   "metadata": {},
   "outputs": [],
   "source": [
    "blob.sentences"
   ]
  },
  {
   "cell_type": "code",
   "execution_count": null,
   "metadata": {},
   "outputs": [],
   "source": [
    "for words in blob.words:\n",
    " print (words)"
   ]
  },
  {
   "cell_type": "code",
   "execution_count": null,
   "metadata": {},
   "outputs": [],
   "source": [
    "def syllabify(text):\n",
    "        signs = [u'\\u0c3e', u'\\u0c3f', u'\\u0c40', u'\\u0c41', u'\\u0c42',\n",
    "                 u'\\u0c43', u'\\u0c44', u'\\u0c46', u'\\u0c47', u'\\u0c48',\n",
    "                 u'\\u0c4a', u'\\u0c4b', u'\\u0c4c', u'\\u094b', u'\\u094c',\n",
    "                 u'\\u094d']\n",
    "        limiters = ['.', '\\\"', '\\'', '`', '!', ';', ', ', '?']\n",
    "\n",
    "        virama = u'\\u0c4d'\n",
    "        lst_chars = []\n",
    "        for char in text:\n",
    "            if char in limiters:\n",
    "                lst_chars.append(char)\n",
    "            elif char in signs:\n",
    "                lst_chars[-1] = lst_chars[-1] + char\n",
    "            else:\n",
    "                try:\n",
    "                    if lst_chars[-1][-1] == virama:\n",
    "                        lst_chars[-1] = lst_chars[-1] + char\n",
    "                    else:\n",
    "                        lst_chars.append(char)\n",
    "                except IndexError:\n",
    "                    lst_chars.append(char)\n",
    "\n",
    "        return lst_chars"
   ]
  },
  {
   "cell_type": "code",
   "execution_count": null,
   "metadata": {},
   "outputs": [],
   "source": [
    "syllabify(blob)"
   ]
  },
  {
   "cell_type": "code",
   "execution_count": null,
   "metadata": {},
   "outputs": [],
   "source": [
    "def getSyllableStats(inputtext):\n",
    "\n",
    "    syllcount = {}\n",
    "    wordcount = {}\n",
    "    word = ''\n",
    "    syllable = ''\n",
    "    count = ''\n",
    "    syllablestatus = {}\n",
    "\n",
    "    words = getSyllables(inputtext)\n",
    "\n",
    "    for entry in words:\n",
    "\n",
    "        word = entry[0]\n",
    "        syllables = entry[1]\n",
    "        \n",
    "\n",
    "        word_syllables = syllables\n",
    "\n",
    "        # count all words in input\n",
    "        if word in wordcount:\n",
    "            wordcount[word] += 1\n",
    "        else:\n",
    "            wordcount[word] = 1\n",
    "\n",
    "        # count all syllables in input\n",
    "        for syll in word_syllables:\n",
    "            if syll in syllcount:\n",
    "                syllcount[syll] += 1\n",
    "            else:\n",
    "                syllcount[syll] = 1\n",
    "\n",
    "    syllablestatus.update({'words' : wordcount})\n",
    "    syllablestatus.update({'syllables' : syllcount})\n",
    "\n",
    "    return (syllablestatus)"
   ]
  },
  {
   "cell_type": "code",
   "execution_count": null,
   "metadata": {},
   "outputs": [],
   "source": [
    "results = getSyllables(blob)\n",
    "\n",
    "for x in results:\n",
    "    print (x[0], \":\", '\\u00B7'.join(x[1]), \":\", len(x[1]))"
   ]
  },
  {
   "cell_type": "code",
   "execution_count": null,
   "metadata": {},
   "outputs": [],
   "source": [
    "from IPython.display import HTML, display\n",
    "import tabulate\n",
    "display(HTML(tabulate.tabulate(results, tablefmt='html')))"
   ]
  },
  {
   "cell_type": "code",
   "execution_count": null,
   "metadata": {},
   "outputs": [],
   "source": [
    "stats = getSyllableStats(blob)\n",
    "for k, v in stats.items():\n",
    "    print (k)\n",
    "    for x, y in v.items():\n",
    "        print (\"\\t\", x, \":\", y)\n",
    "    print (\"total\", k, \"=\", sum(v.values()))\n",
    "    print (\"unique\", k, \"=\", len(v), end='\\n\\n')"
   ]
  },
  {
   "cell_type": "code",
   "execution_count": null,
   "metadata": {},
   "outputs": [],
   "source": [
    " to check the readablity we will use the Flesch Reading Ease formula,\n",
    "\n",
    "Flesch Reading Ease = 206.835-(1.015xASL)-(84.5xASW)\n",
    "\n",
    "and Flesch-kincaid Grade-Level = (0.39xASL)+(11.8XASW)-15.59\n",
    "\n",
    "Where, ASL = Total Number of words/Total number of sentences\n",
    "\n",
    "       ASW = Total syllable count/number of words"
   ]
  },
  {
   "cell_type": "code",
   "execution_count": null,
   "metadata": {},
   "outputs": [],
   "source": [
    "def ASL (w,s):\n",
    "    ASL = w/s\n",
    "    return ASL"
   ]
  },
  {
   "cell_type": "code",
   "execution_count": null,
   "metadata": {},
   "outputs": [],
   "source": [
    "def ASW(sy,w):\n",
    "    asw = sy/w\n",
    "    return asw"
   ]
  },
  {
   "cell_type": "code",
   "execution_count": null,
   "metadata": {},
   "outputs": [],
   "source": [
    "def FRE(ASL,ASW):\n",
    "    flesch_reading_ease = 206.835-(1.015 * ASL)-(84.5 * ASW)\n",
    "    return flesch_reading_ease"
   ]
  },
  {
   "cell_type": "code",
   "execution_count": null,
   "metadata": {},
   "outputs": [],
   "source": [
    "def FKGL(ASL,ASW):\n",
    "    flesch_kincaid_Grade_level = (0.39*ASL)+(11.8*ASW)-15.59\n",
    "    return flesch_kincaid_Grade_level"
   ]
  },
  {
   "cell_type": "code",
   "execution_count": null,
   "metadata": {},
   "outputs": [],
   "source": []
  }
 ],
 "metadata": {
  "kernelspec": {
   "display_name": "Python 3",
   "language": "python",
   "name": "python3"
  },
  "language_info": {
   "codemirror_mode": {
    "name": "ipython",
    "version": 3
   },
   "file_extension": ".py",
   "mimetype": "text/x-python",
   "name": "python",
   "nbconvert_exporter": "python",
   "pygments_lexer": "ipython3",
   "version": "3.6.4"
  }
 },
 "nbformat": 4,
 "nbformat_minor": 2
}
