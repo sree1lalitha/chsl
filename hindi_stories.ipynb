{
 "cells": [
  {
   "cell_type": "code",
   "execution_count": null,
   "metadata": {},
   "outputs": [],
   "source": [
    "import pandas as pd\n",
    "import numpy as np\n",
    "import nltk\n",
    "from textblob import TextBlob"
   ]
  },
  {
   "cell_type": "code",
   "execution_count": null,
   "metadata": {},
   "outputs": [],
   "source": [
    "blob = TextBlob(\"text\")"
   ]
  },
  {
   "cell_type": "code",
   "execution_count": null,
   "metadata": {},
   "outputs": [],
   "source": [
    "blob.sentences"
   ]
  },
  {
   "cell_type": "code",
   "execution_count": null,
   "metadata": {},
   "outputs": [],
   "source": [
    "for words in blob.words:\n",
    "    print(words)"
   ]
  },
  {
   "cell_type": "code",
   "execution_count": null,
   "metadata": {},
   "outputs": [],
   "source": [
    "p = len(blob.sentences)\n",
    "print(p)"
   ]
  },
  {
   "cell_type": "code",
   "execution_count": null,
   "metadata": {},
   "outputs": [],
   "source": [
    "q = (len(blob.words))\n",
    "print(q)"
   ]
  },
  {
   "cell_type": "code",
   "execution_count": null,
   "metadata": {},
   "outputs": [],
   "source": [
    "import re"
   ]
  },
  {
   "cell_type": "code",
   "execution_count": null,
   "metadata": {},
   "outputs": [],
   "source": [
    "vowels = '\\u0904-\\u0914\\u0960-\\u0961\\u0972-\\u0977'\n",
    "consonants = '\\u0915-\\u0939\\u0958-\\u095F\\u0978-\\u097C\\u097E-\\u097F'\n",
    "glottal = '\\u097D'\n",
    "\n",
    "vowel_signs = '\\u093E-\\u094C\\u093A-\\u093B\\u094E-\\u094F\\u0955-\\u0957\\u1CF8-\\u1CF9'\n",
    "nasals = '\\u0900-\\u0902\\u1CF2-\\u1CF6'\n",
    "visarga = '\\u0903'\n",
    "nukta = '\\u093C'\n",
    "avagraha = '\\u093D'\n",
    "virama = '\\u094D'\n",
    "\n",
    "vedic_signs = '\\u0951-\\u0952\\u1CD0-\\u1CE1\\u1CED'\n",
    "visarga_modifiers = '\\u1CE2-\\u1CE8'\n",
    "combining = '\\uA8E0-\\uA8F1'\n",
    "\n",
    "om = '\\u0950'\n",
    "\n",
    "accents = '\\u0953-\\u0954'\n",
    "dandas = '\\u0964-\\u0965'\n",
    "digits = '\\u0966-\\u096F'\n",
    "abbreviation = '\\u0970'\n",
    "spacing = '\\u0971'\n",
    "\n",
    "vedic_nasals = '\\uA8F2-\\uA8F7\\u1CE9-\\u1CEC\\u1CEE-\\u1CF1'\n",
    "fillers = '\\uA8F8-\\uA8F9'\n",
    "caret = '\\uA8FA'\n",
    "headstroke = '\\uA8FB'\n",
    "\n",
    "space = '\\u0020'\n",
    "joiners = '\\u200C-\\u200D'"
   ]
  },
  {
   "cell_type": "code",
   "execution_count": null,
   "metadata": {},
   "outputs": [],
   "source": [
    "def syllabify(inputtext):\n",
    "\n",
    "    syllables = []\n",
    "    curr = ''\n",
    "\n",
    "    # iterate over each character in the input. if a char belongs to a \n",
    "    # class that can be part of a syllable, then add it to the curr \n",
    "    # buffer. otherwise, output it to syllables[] right away.\n",
    "\n",
    "    for char in inputtext:\n",
    "\n",
    "        if re.match('[' + vowels + avagraha + glottal + om + ']', char):\n",
    "\n",
    "            # need to handle non-initial independent vowel letters,\n",
    "            # avagraha, and om\n",
    "\n",
    "            if curr != '':\n",
    "                syllables.append(curr)\n",
    "                curr = char\n",
    "            else:\n",
    "                curr = curr + char\n",
    "\n",
    "        elif re.match('[' + consonants + ']', char):\n",
    "\n",
    "            # if last in curr is not virama, output curr as syllable\n",
    "            # else add present consonant to curr\n",
    "\n",
    "            if len(curr) > 0 and curr[-1] != virama:\n",
    "                syllables.append(curr)\n",
    "                curr = char\n",
    "            else:\n",
    "                curr = curr + char\n",
    "\n",
    "        elif re.match('[' + vowel_signs + visarga + vedic_signs + ']', char):\n",
    "            curr = curr + char\n",
    "\n",
    "        elif re.match('[' + visarga_modifiers + ']', char):\n",
    "\n",
    "            if len(curr) > 0 and curr[-1] == visarga:\n",
    "                curr = curr + char\n",
    "                syllables.append(curr)\n",
    "                curr = ''\n",
    "            else:\n",
    "                syllables.append(curr)\n",
    "                curr = ''\n",
    "\n",
    "        elif re.match('[' + nasals + vedic_nasals + ']', char):\n",
    "\n",
    "            # if last in curr is a vowel sign, output curr as syllable\n",
    "            # else add present vowel modifier to curr and output as syllable\n",
    "\n",
    "            vowelsign = re.match('[' + vowel_signs + ']$', curr)\n",
    "            if vowelsign:\n",
    "                syllables.append(curr)\n",
    "                curr = ''\n",
    "            else:\n",
    "                curr = curr + char\n",
    "                syllables.append(curr)\n",
    "                curr = ''\n",
    "\n",
    "        elif re.match('[' + nukta + ']', char):\n",
    "            curr = curr + char\n",
    "\n",
    "        elif re.match('[' + virama + ']', char):\n",
    "            curr = curr + char\n",
    "\n",
    "        elif re.match('[' + digits + ']', char):\n",
    "            curr = curr + char\n",
    "\n",
    "        elif re.match('[' + fillers + headstroke + ']', char):\n",
    "            syllables.append(char)\n",
    "\n",
    "        elif re.match('[' + joiners + ']', char):\n",
    "            curr = curr + char\n",
    "\n",
    "        else:\n",
    "            pass\n",
    "            #print (\"unhandled: \" + char + \" \", char.encode('unicode_escape'))\n",
    "\n",
    "    # handle remaining curr\n",
    "    if curr != '':\n",
    "        syllables.append(curr)\n",
    "        curr = ''\n",
    "\n",
    "    # return each syllable as item in a list\n",
    "    return syllables"
   ]
  },
  {
   "cell_type": "code",
   "execution_count": null,
   "metadata": {},
   "outputs": [],
   "source": [
    "def getSyllables(inputtext):\n",
    "\n",
    "    word_syllables = []\n",
    "    all_words = []\n",
    "\n",
    "    for word in inputtext.split():\n",
    "\n",
    "        word = word.strip()\n",
    "        word = re.sub('[\\s\\n\\u0964\\u0965\\.]', '', word)\n",
    "\n",
    "        word_syllables = syllabify(word)\n",
    "        #number_syllables = len(word_syllables)\n",
    "\n",
    "        #joined_syllables = '\\u00B7'.join(word_syllables)\n",
    "        joined_syllables = word_syllables\n",
    "\n",
    "        # make list of lists containing each word\n",
    "        #all_words.append([word, joined_syllables, number_syllables])\n",
    "        all_words.append([word, joined_syllables])\n",
    "\n",
    "    return all_words"
   ]
  },
  {
   "cell_type": "code",
   "execution_count": null,
   "metadata": {},
   "outputs": [],
   "source": [
    "def getSyllableStats(inputtext):\n",
    "\n",
    "    syllcount = {}\n",
    "    wordcount = {}\n",
    "    word = ''\n",
    "    syllable = ''\n",
    "    count = ''\n",
    "    syllablestatus = {}\n",
    "\n",
    "    words = getSyllables(inputtext)\n",
    "\n",
    "    for entry in words:\n",
    "\n",
    "        word = entry[0]\n",
    "        syllables = entry[1]\n",
    "        #count = entry[2]\n",
    "\n",
    "        #word_syllables = syllables.split('\\u00B7')\n",
    "        word_syllables = syllables\n",
    "\n",
    "        # count all words in input\n",
    "        if word in wordcount:\n",
    "            wordcount[word] += 1\n",
    "        else:\n",
    "            wordcount[word] = 1\n",
    "\n",
    "        # count all syllables in input\n",
    "        for syll in word_syllables:\n",
    "            if syll in syllcount:\n",
    "                syllcount[syll] += 1\n",
    "            else:\n",
    "                syllcount[syll] = 1\n",
    "\n",
    "    syllablestatus.update({'words' : wordcount})\n",
    "    syllablestatus.update({'syllables' : syllcount})\n",
    "\n",
    "    return (syllablestatus)"
   ]
  },
  {
   "cell_type": "code",
   "execution_count": null,
   "metadata": {},
   "outputs": [],
   "source": [
    "syllabify(blob)"
   ]
  },
  {
   "cell_type": "code",
   "execution_count": null,
   "metadata": {},
   "outputs": [],
   "source": [
    "results = getSyllables(blob)\n",
    "\n",
    "for x in results:\n",
    "    print (x[0], \":\", '\\u00B7'.join(x[1]), \":\", len(x[1]))"
   ]
  },
  {
   "cell_type": "code",
   "execution_count": null,
   "metadata": {},
   "outputs": [],
   "source": [
    "from IPython.display import HTML, display\n",
    "import tabulate\n",
    "display(HTML(tabulate.tabulate(results, tablefmt='html')))"
   ]
  },
  {
   "cell_type": "code",
   "execution_count": null,
   "metadata": {},
   "outputs": [],
   "source": [
    "stats = getSyllableStats(text)\n",
    "for k, v in stats.items():\n",
    "    print (k)\n",
    "    for x, y in v.items():\n",
    "        print (\"\\t\", x, \":\", y)\n",
    "    print (\"total\", k, \"=\", sum(v.values()))\n",
    "    print (\"unique\", k, \"=\", len(v), end='\\n\\n')"
   ]
  },
  {
   "cell_type": "code",
   "execution_count": null,
   "metadata": {},
   "outputs": [],
   "source": [
    " to check the readablity we will use the Flesch Reading Ease formula,\n",
    "\n",
    "Flesch Reading Ease = 206.835-(1.015xASL)-(84.5xASW)\n",
    "\n",
    "and Flesch-kincaid Grade-Level = (0.39xASL)+(11.8XASW)-15.59\n",
    "\n",
    "Where, ASL = Total Number of words/Total number of sentences\n",
    "\n",
    "       ASW = Total syllable count/number of words"
   ]
  },
  {
   "cell_type": "code",
   "execution_count": null,
   "metadata": {},
   "outputs": [],
   "source": [
    "def ASL (w,s):\n",
    "    ASL = w/s\n",
    "    return ASL"
   ]
  },
  {
   "cell_type": "code",
   "execution_count": null,
   "metadata": {},
   "outputs": [],
   "source": [
    "def ASW(sy,w):\n",
    "    asw = sy/w\n",
    "    return asw"
   ]
  },
  {
   "cell_type": "code",
   "execution_count": null,
   "metadata": {},
   "outputs": [],
   "source": [
    "def FRE(ASL,ASW):\n",
    "    flesch_reading_ease = 206.835-(1.015 * ASL)-(84.5 * ASW)\n",
    "    return flesch_reading_ease"
   ]
  },
  {
   "cell_type": "code",
   "execution_count": null,
   "metadata": {},
   "outputs": [],
   "source": [
    "def FKGL(ASL,ASW):\n",
    "    flesch_kincaid_Grade_level = (0.39*ASL)+(11.8*ASW)-15.59\n",
    "    return flesch_kincaid_Grade_level"
   ]
  },
  {
   "cell_type": "code",
   "execution_count": null,
   "metadata": {},
   "outputs": [],
   "source": []
  },
  {
   "cell_type": "code",
   "execution_count": null,
   "metadata": {},
   "outputs": [],
   "source": []
  },
  {
   "cell_type": "code",
   "execution_count": null,
   "metadata": {},
   "outputs": [],
   "source": []
  },
  {
   "cell_type": "code",
   "execution_count": null,
   "metadata": {},
   "outputs": [],
   "source": []
  },
  {
   "cell_type": "code",
   "execution_count": null,
   "metadata": {},
   "outputs": [],
   "source": []
  }
 ],
 "metadata": {
  "kernelspec": {
   "display_name": "Python 3",
   "language": "python",
   "name": "python3"
  },
  "language_info": {
   "codemirror_mode": {
    "name": "ipython",
    "version": 3
   },
   "file_extension": ".py",
   "mimetype": "text/x-python",
   "name": "python",
   "nbconvert_exporter": "python",
   "pygments_lexer": "ipython3",
   "version": "3.6.4"
  }
 },
 "nbformat": 4,
 "nbformat_minor": 2
}
