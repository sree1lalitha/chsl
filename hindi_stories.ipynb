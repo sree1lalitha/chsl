{
 "cells": [
  {
   "cell_type": "code",
   "execution_count": 27,
   "metadata": {},
   "outputs": [],
   "source": [
    "# Importing the libraries\n",
    "import pandas as pd\n",
    "import numpy as np\n",
    "import nltk\n",
    "from textblob import TextBlob"
   ]
  },
  {
   "cell_type": "markdown",
   "metadata": {},
   "source": [
    "Applying the TextBlob funtion to the story"
   ]
  },
  {
   "cell_type": "code",
   "execution_count": 28,
   "metadata": {},
   "outputs": [],
   "source": [
    "blob = TextBlob(\"यह है मोटा राजा।  मोटे राजा का है दुबला कुत्ता। मोटा राजा व दुबला कुत्ता घूमने निकले।  दुबले कुत्ते ने चिड़िया देखी। वह उसके पीछे भागा।  मोटा राजा दुबले कुत्ते के पीछे भागा।  दोनों भागे। और कई दिनों तक भागते रहे!  मोटे राजा ने दुबले कुत्ते को पकड़ ही लिया।  मोटा राजा अब दुबला है!\")"
   ]
  },
  {
   "cell_type": "markdown",
   "metadata": {},
   "source": [
    "Now, We shall see the sentences in the story"
   ]
  },
  {
   "cell_type": "code",
   "execution_count": 29,
   "metadata": {},
   "outputs": [
    {
     "data": {
      "text/plain": [
       "[Sentence(\"यह है मोटा राजा।  मोटे राजा का है दुबला कुत्ता। मोटा राजा व दुबला कुत्ता घूमने निकले।  दुबले कुत्ते ने चिड़िया देखी। वह उसके पीछे भागा।  मोटा राजा दुबले कुत्ते के पीछे भागा।  दोनों भागे। और कई दिनों तक भागते रहे!\"),\n",
       " Sentence(\"मोटे राजा ने दुबले कुत्ते को पकड़ ही लिया।  मोटा राजा अब दुबला है!\")]"
      ]
     },
     "execution_count": 29,
     "metadata": {},
     "output_type": "execute_result"
    }
   ],
   "source": [
    "blob.sentences"
   ]
  },
  {
   "cell_type": "markdown",
   "metadata": {},
   "source": [
    "Now, We shall see the  words in the story"
   ]
  },
  {
   "cell_type": "code",
   "execution_count": 31,
   "metadata": {},
   "outputs": [
    {
     "name": "stdout",
     "output_type": "stream",
     "text": [
      "यह\n",
      "है\n",
      "मोटा\n",
      "राजा।\n",
      "मोटे\n",
      "राजा\n",
      "का\n",
      "है\n",
      "दुबला\n",
      "कुत्ता।\n",
      "मोटा\n",
      "राजा\n",
      "व\n",
      "दुबला\n",
      "कुत्ता\n",
      "घूमने\n",
      "निकले।\n",
      "दुबले\n",
      "कुत्ते\n",
      "ने\n",
      "चिड़िया\n",
      "देखी।\n",
      "वह\n",
      "उसके\n",
      "पीछे\n",
      "भागा।\n",
      "मोटा\n",
      "राजा\n",
      "दुबले\n",
      "कुत्ते\n",
      "के\n",
      "पीछे\n",
      "भागा।\n",
      "दोनों\n",
      "भागे।\n",
      "और\n",
      "कई\n",
      "दिनों\n",
      "तक\n",
      "भागते\n",
      "रहे\n",
      "मोटे\n",
      "राजा\n",
      "ने\n",
      "दुबले\n",
      "कुत्ते\n",
      "को\n",
      "पकड़\n",
      "ही\n",
      "लिया।\n",
      "मोटा\n",
      "राजा\n",
      "अब\n",
      "दुबला\n",
      "है\n"
     ]
    }
   ],
   "source": [
    "for words in blob.words:\n",
    "    print(words)"
   ]
  },
  {
   "cell_type": "markdown",
   "metadata": {},
   "source": [
    "let us find the number of sentences in the story"
   ]
  },
  {
   "cell_type": "code",
   "execution_count": 32,
   "metadata": {},
   "outputs": [
    {
     "name": "stdout",
     "output_type": "stream",
     "text": [
      "2\n"
     ]
    }
   ],
   "source": [
    "p = len(blob.sentences)\n",
    "print(p)"
   ]
  },
  {
   "cell_type": "markdown",
   "metadata": {},
   "source": [
    "Let us find the number of words in the story"
   ]
  },
  {
   "cell_type": "code",
   "execution_count": 33,
   "metadata": {},
   "outputs": [
    {
     "name": "stdout",
     "output_type": "stream",
     "text": [
      "55\n"
     ]
    }
   ],
   "source": [
    "q = (len(blob.words))\n",
    "print(q)"
   ]
  },
  {
   "cell_type": "code",
   "execution_count": 34,
   "metadata": {},
   "outputs": [],
   "source": [
    "import re"
   ]
  },
  {
   "cell_type": "markdown",
   "metadata": {},
   "source": [
    "let us define the unicodes for the vowels, consonants, vowel signs etc., of the hindi language in order to define the function \n",
    "to find the syllables in the story"
   ]
  },
  {
   "cell_type": "code",
   "execution_count": 35,
   "metadata": {},
   "outputs": [],
   "source": [
    "vowels = '\\u0904-\\u0914\\u0960-\\u0961\\u0972-\\u0977'\n",
    "consonants = '\\u0915-\\u0939\\u0958-\\u095F\\u0978-\\u097C\\u097E-\\u097F'\n",
    "glottal = '\\u097D'\n",
    "\n",
    "vowel_signs = '\\u093E-\\u094C\\u093A-\\u093B\\u094E-\\u094F\\u0955-\\u0957\\u1CF8-\\u1CF9'\n",
    "nasals = '\\u0900-\\u0902\\u1CF2-\\u1CF6'\n",
    "visarga = '\\u0903'\n",
    "nukta = '\\u093C'\n",
    "avagraha = '\\u093D'\n",
    "virama = '\\u094D'\n",
    "\n",
    "vedic_signs = '\\u0951-\\u0952\\u1CD0-\\u1CE1\\u1CED'\n",
    "visarga_modifiers = '\\u1CE2-\\u1CE8'\n",
    "combining = '\\uA8E0-\\uA8F1'\n",
    "\n",
    "om = '\\u0950'\n",
    "\n",
    "accents = '\\u0953-\\u0954'\n",
    "dandas = '\\u0964-\\u0965'\n",
    "digits = '\\u0966-\\u096F'\n",
    "abbreviation = '\\u0970'\n",
    "spacing = '\\u0971'\n",
    "\n",
    "vedic_nasals = '\\uA8F2-\\uA8F7\\u1CE9-\\u1CEC\\u1CEE-\\u1CF1'\n",
    "fillers = '\\uA8F8-\\uA8F9'\n",
    "caret = '\\uA8FA'\n",
    "headstroke = '\\uA8FB'\n",
    "\n",
    "space = '\\u0020'\n",
    "joiners = '\\u200C-\\u200D'"
   ]
  },
  {
   "cell_type": "markdown",
   "metadata": {},
   "source": [
    "defining the functions to find the syllables in the story"
   ]
  },
  {
   "cell_type": "code",
   "execution_count": 36,
   "metadata": {},
   "outputs": [],
   "source": [
    "def syllabify(inputtext):\n",
    "\n",
    "    syllables = []\n",
    "    curr = ''\n",
    "\n",
    "    # iterate over each character in the input. if a char belongs to a \n",
    "    # class that can be part of a syllable, then add it to the curr \n",
    "    # buffer. otherwise, output it to syllables[] right away.\n",
    "\n",
    "    for char in inputtext:\n",
    "\n",
    "        if re.match('[' + vowels + avagraha + glottal + om + ']', char):\n",
    "\n",
    "            # need to handle non-initial independent vowel letters,\n",
    "            # avagraha, and om\n",
    "\n",
    "            if curr != '':\n",
    "                syllables.append(curr)\n",
    "                curr = char\n",
    "            else:\n",
    "                curr = curr + char\n",
    "\n",
    "        elif re.match('[' + consonants + ']', char):\n",
    "\n",
    "            # if last in curr is not virama, output curr as syllable\n",
    "            # else add present consonant to curr\n",
    "\n",
    "            if len(curr) > 0 and curr[-1] != virama:\n",
    "                syllables.append(curr)\n",
    "                curr = char\n",
    "            else:\n",
    "                curr = curr + char\n",
    "\n",
    "        elif re.match('[' + vowel_signs + visarga + vedic_signs + ']', char):\n",
    "            curr = curr + char\n",
    "\n",
    "        elif re.match('[' + visarga_modifiers + ']', char):\n",
    "\n",
    "            if len(curr) > 0 and curr[-1] == visarga:\n",
    "                curr = curr + char\n",
    "                syllables.append(curr)\n",
    "                curr = ''\n",
    "            else:\n",
    "                syllables.append(curr)\n",
    "                curr = ''\n",
    "\n",
    "        elif re.match('[' + nasals + vedic_nasals + ']', char):\n",
    "\n",
    "            # if last in curr is a vowel sign, output curr as syllable\n",
    "            # else add present vowel modifier to curr and output as syllable\n",
    "\n",
    "            vowelsign = re.match('[' + vowel_signs + ']$', curr)\n",
    "            if vowelsign:\n",
    "                syllables.append(curr)\n",
    "                curr = ''\n",
    "            else:\n",
    "                curr = curr + char\n",
    "                syllables.append(curr)\n",
    "                curr = ''\n",
    "\n",
    "        elif re.match('[' + nukta + ']', char):\n",
    "            curr = curr + char\n",
    "\n",
    "        elif re.match('[' + virama + ']', char):\n",
    "            curr = curr + char\n",
    "\n",
    "        elif re.match('[' + digits + ']', char):\n",
    "            curr = curr + char\n",
    "\n",
    "        elif re.match('[' + fillers + headstroke + ']', char):\n",
    "            syllables.append(char)\n",
    "\n",
    "        elif re.match('[' + joiners + ']', char):\n",
    "            curr = curr + char\n",
    "\n",
    "        else:\n",
    "            pass\n",
    "            #print (\"unhandled: \" + char + \" \", char.encode('unicode_escape'))\n",
    "\n",
    "    # handle remaining curr\n",
    "    if curr != '':\n",
    "        syllables.append(curr)\n",
    "        curr = ''\n",
    "\n",
    "    # return each syllable as item in a list\n",
    "    return syllables"
   ]
  },
  {
   "cell_type": "code",
   "execution_count": 37,
   "metadata": {},
   "outputs": [],
   "source": [
    "def getSyllables(inputtext):\n",
    "\n",
    "    word_syllables = []\n",
    "    all_words = []\n",
    "\n",
    "    for word in inputtext.split():\n",
    "\n",
    "        word = word.strip()\n",
    "        word = re.sub('[\\s\\n\\u0964\\u0965\\.]', '', word)\n",
    "\n",
    "        word_syllables = syllabify(word)\n",
    "        #number_syllables = len(word_syllables)\n",
    "\n",
    "        #joined_syllables = '\\u00B7'.join(word_syllables)\n",
    "        joined_syllables = word_syllables\n",
    "\n",
    "        # make list of lists containing each word\n",
    "        #all_words.append([word, joined_syllables, number_syllables])\n",
    "        all_words.append([word, joined_syllables])\n",
    "\n",
    "    return all_words"
   ]
  },
  {
   "cell_type": "code",
   "execution_count": 38,
   "metadata": {},
   "outputs": [],
   "source": [
    "def getSyllableStats(inputtext):\n",
    "\n",
    "    syllcount = {}\n",
    "    wordcount = {}\n",
    "    word = ''\n",
    "    syllable = ''\n",
    "    count = ''\n",
    "    syllablestatus = {}\n",
    "\n",
    "    words = getSyllables(inputtext)\n",
    "\n",
    "    for entry in words:\n",
    "\n",
    "        word = entry[0]\n",
    "        syllables = entry[1]\n",
    "        #count = entry[2]\n",
    "\n",
    "        #word_syllables = syllables.split('\\u00B7')\n",
    "        word_syllables = syllables\n",
    "\n",
    "        # count all words in input\n",
    "        if word in wordcount:\n",
    "            wordcount[word] += 1\n",
    "        else:\n",
    "            wordcount[word] = 1\n",
    "\n",
    "        # count all syllables in input\n",
    "        for syll in word_syllables:\n",
    "            if syll in syllcount:\n",
    "                syllcount[syll] += 1\n",
    "            else:\n",
    "                syllcount[syll] = 1\n",
    "\n",
    "    syllablestatus.update({'words' : wordcount})\n",
    "    syllablestatus.update({'syllables' : syllcount})\n",
    "\n",
    "    return (syllablestatus)"
   ]
  },
  {
   "cell_type": "markdown",
   "metadata": {},
   "source": [
    "applying the functions on the story "
   ]
  },
  {
   "cell_type": "code",
   "execution_count": 12,
   "metadata": {},
   "outputs": [
    {
     "data": {
      "text/plain": [
       "['य',\n",
       " 'ह',\n",
       " 'है',\n",
       " 'मो',\n",
       " 'टा',\n",
       " 'रा',\n",
       " 'जा',\n",
       " 'मो',\n",
       " 'टे',\n",
       " 'रा',\n",
       " 'जा',\n",
       " 'का',\n",
       " 'है',\n",
       " 'दु',\n",
       " 'ब',\n",
       " 'ला',\n",
       " 'कु',\n",
       " 'त्ता',\n",
       " 'मो',\n",
       " 'टा',\n",
       " 'रा',\n",
       " 'जा',\n",
       " 'व',\n",
       " 'दु',\n",
       " 'ब',\n",
       " 'ला',\n",
       " 'कु',\n",
       " 'त्ता',\n",
       " 'घू',\n",
       " 'म',\n",
       " 'ने',\n",
       " 'नि',\n",
       " 'क',\n",
       " 'ले',\n",
       " 'दु',\n",
       " 'ब',\n",
       " 'ले',\n",
       " 'कु',\n",
       " 'त्ते',\n",
       " 'ने',\n",
       " 'चि',\n",
       " 'ड़ि',\n",
       " 'या',\n",
       " 'दे',\n",
       " 'खी',\n",
       " 'व',\n",
       " 'ह',\n",
       " 'उ',\n",
       " 'स',\n",
       " 'के',\n",
       " 'पी',\n",
       " 'छे',\n",
       " 'भा',\n",
       " 'गा',\n",
       " 'मो',\n",
       " 'टा',\n",
       " 'रा',\n",
       " 'जा',\n",
       " 'दु',\n",
       " 'ब',\n",
       " 'ले',\n",
       " 'कु',\n",
       " 'त्ते',\n",
       " 'के',\n",
       " 'पी',\n",
       " 'छे',\n",
       " 'भा',\n",
       " 'गा',\n",
       " 'दो',\n",
       " 'नों',\n",
       " 'भा',\n",
       " 'गे',\n",
       " 'औ',\n",
       " 'र',\n",
       " 'क',\n",
       " 'ई',\n",
       " 'दि',\n",
       " 'नों',\n",
       " 'त',\n",
       " 'क',\n",
       " 'भा',\n",
       " 'ग',\n",
       " 'ते',\n",
       " 'र',\n",
       " 'हे',\n",
       " 'मो',\n",
       " 'टे',\n",
       " 'रा',\n",
       " 'जा',\n",
       " 'ने',\n",
       " 'दु',\n",
       " 'ब',\n",
       " 'ले',\n",
       " 'कु',\n",
       " 'त्ते',\n",
       " 'को',\n",
       " 'प',\n",
       " 'क',\n",
       " 'ड़',\n",
       " 'ही',\n",
       " 'लि',\n",
       " 'या',\n",
       " 'मो',\n",
       " 'टा',\n",
       " 'रा',\n",
       " 'जा',\n",
       " 'अ',\n",
       " 'ब',\n",
       " 'दु',\n",
       " 'ब',\n",
       " 'ला',\n",
       " 'है']"
      ]
     },
     "execution_count": 12,
     "metadata": {},
     "output_type": "execute_result"
    }
   ],
   "source": [
    "syllabify(blob)"
   ]
  },
  {
   "cell_type": "code",
   "execution_count": 13,
   "metadata": {},
   "outputs": [
    {
     "name": "stdout",
     "output_type": "stream",
     "text": [
      "यह : य·ह : 2\n",
      "है : है : 1\n",
      "मोटा : मो·टा : 2\n",
      "राजा : रा·जा : 2\n",
      "मोटे : मो·टे : 2\n",
      "राजा : रा·जा : 2\n",
      "का : का : 1\n",
      "है : है : 1\n",
      "दुबला : दु·ब·ला : 3\n",
      "कुत्ता : कु·त्ता : 2\n",
      "मोटा : मो·टा : 2\n",
      "राजा : रा·जा : 2\n",
      "व : व : 1\n",
      "दुबला : दु·ब·ला : 3\n",
      "कुत्ता : कु·त्ता : 2\n",
      "घूमने : घू·म·ने : 3\n",
      "निकले : नि·क·ले : 3\n",
      "दुबले : दु·ब·ले : 3\n",
      "कुत्ते : कु·त्ते : 2\n",
      "ने : ने : 1\n",
      "चिड़िया : चि·ड़ि·या : 3\n",
      "देखी : दे·खी : 2\n",
      "वह : व·ह : 2\n",
      "उसके : उ·स·के : 3\n",
      "पीछे : पी·छे : 2\n",
      "भागा : भा·गा : 2\n",
      "मोटा : मो·टा : 2\n",
      "राजा : रा·जा : 2\n",
      "दुबले : दु·ब·ले : 3\n",
      "कुत्ते : कु·त्ते : 2\n",
      "के : के : 1\n",
      "पीछे : पी·छे : 2\n",
      "भागा : भा·गा : 2\n",
      "दोनों : दो·नों : 2\n",
      "भागे : भा·गे : 2\n",
      "और : औ·र : 2\n",
      "कई : क·ई : 2\n",
      "दिनों : दि·नों : 2\n",
      "तक : त·क : 2\n",
      "भागते : भा·ग·ते : 3\n",
      "रहे! : र·हे : 2\n",
      "मोटे : मो·टे : 2\n",
      "राजा : रा·जा : 2\n",
      "ने : ने : 1\n",
      "दुबले : दु·ब·ले : 3\n",
      "कुत्ते : कु·त्ते : 2\n",
      "को : को : 1\n",
      "पकड़ : प·क·ड़ : 3\n",
      "ही : ही : 1\n",
      "लिया : लि·या : 2\n",
      "मोटा : मो·टा : 2\n",
      "राजा : रा·जा : 2\n",
      "अब : अ·ब : 2\n",
      "दुबला : दु·ब·ला : 3\n",
      "है! : है : 1\n"
     ]
    }
   ],
   "source": [
    "results = getSyllables(blob)\n",
    "\n",
    "for x in results:\n",
    "    print (x[0], \":\", '\\u00B7'.join(x[1]), \":\", len(x[1]))"
   ]
  },
  {
   "cell_type": "code",
   "execution_count": 14,
   "metadata": {},
   "outputs": [
    {
     "data": {
      "text/html": [
       "<table>\n",
       "<tbody>\n",
       "<tr><td>यह    </td><td>['य', 'ह']        </td></tr>\n",
       "<tr><td>है     </td><td>['है']             </td></tr>\n",
       "<tr><td>मोटा  </td><td>['मो', 'टा']      </td></tr>\n",
       "<tr><td>राजा  </td><td>['रा', 'जा']      </td></tr>\n",
       "<tr><td>मोटे   </td><td>['मो', 'टे']       </td></tr>\n",
       "<tr><td>राजा  </td><td>['रा', 'जा']      </td></tr>\n",
       "<tr><td>का    </td><td>['का']            </td></tr>\n",
       "<tr><td>है     </td><td>['है']             </td></tr>\n",
       "<tr><td>दुबला  </td><td>['दु', 'ब', 'ला']  </td></tr>\n",
       "<tr><td>कुत्ता  </td><td>['कु', 'त्ता']      </td></tr>\n",
       "<tr><td>मोटा  </td><td>['मो', 'टा']      </td></tr>\n",
       "<tr><td>राजा  </td><td>['रा', 'जा']      </td></tr>\n",
       "<tr><td>व     </td><td>['व']             </td></tr>\n",
       "<tr><td>दुबला  </td><td>['दु', 'ब', 'ला']  </td></tr>\n",
       "<tr><td>कुत्ता  </td><td>['कु', 'त्ता']      </td></tr>\n",
       "<tr><td>घूमने   </td><td>['घू', 'म', 'ने']   </td></tr>\n",
       "<tr><td>निकले  </td><td>['नि', 'क', 'ले']  </td></tr>\n",
       "<tr><td>दुबले   </td><td>['दु', 'ब', 'ले']   </td></tr>\n",
       "<tr><td>कुत्ते   </td><td>['कु', 'त्ते']       </td></tr>\n",
       "<tr><td>ने     </td><td>['ने']             </td></tr>\n",
       "<tr><td>चिड़िया</td><td>['चि', 'ड़ि', 'या']</td></tr>\n",
       "<tr><td>देखी   </td><td>['दे', 'खी']       </td></tr>\n",
       "<tr><td>वह    </td><td>['व', 'ह']        </td></tr>\n",
       "<tr><td>उसके   </td><td>['उ', 'स', 'के']   </td></tr>\n",
       "<tr><td>पीछे   </td><td>['पी', 'छे']       </td></tr>\n",
       "<tr><td>भागा  </td><td>['भा', 'गा']      </td></tr>\n",
       "<tr><td>मोटा  </td><td>['मो', 'टा']      </td></tr>\n",
       "<tr><td>राजा  </td><td>['रा', 'जा']      </td></tr>\n",
       "<tr><td>दुबले   </td><td>['दु', 'ब', 'ले']   </td></tr>\n",
       "<tr><td>कुत्ते   </td><td>['कु', 'त्ते']       </td></tr>\n",
       "<tr><td>के     </td><td>['के']             </td></tr>\n",
       "<tr><td>पीछे   </td><td>['पी', 'छे']       </td></tr>\n",
       "<tr><td>भागा  </td><td>['भा', 'गा']      </td></tr>\n",
       "<tr><td>दोनों  </td><td>['दो', 'नों']      </td></tr>\n",
       "<tr><td>भागे   </td><td>['भा', 'गे']       </td></tr>\n",
       "<tr><td>और    </td><td>['औ', 'र']        </td></tr>\n",
       "<tr><td>कई    </td><td>['क', 'ई']        </td></tr>\n",
       "<tr><td>दिनों  </td><td>['दि', 'नों']      </td></tr>\n",
       "<tr><td>तक    </td><td>['त', 'क']        </td></tr>\n",
       "<tr><td>भागते  </td><td>['भा', 'ग', 'ते']  </td></tr>\n",
       "<tr><td>रहे!   </td><td>['र', 'हे']        </td></tr>\n",
       "<tr><td>मोटे   </td><td>['मो', 'टे']       </td></tr>\n",
       "<tr><td>राजा  </td><td>['रा', 'जा']      </td></tr>\n",
       "<tr><td>ने     </td><td>['ने']             </td></tr>\n",
       "<tr><td>दुबले   </td><td>['दु', 'ब', 'ले']   </td></tr>\n",
       "<tr><td>कुत्ते   </td><td>['कु', 'त्ते']       </td></tr>\n",
       "<tr><td>को    </td><td>['को']            </td></tr>\n",
       "<tr><td>पकड़   </td><td>['प', 'क', 'ड़']   </td></tr>\n",
       "<tr><td>ही    </td><td>['ही']            </td></tr>\n",
       "<tr><td>लिया  </td><td>['लि', 'या']      </td></tr>\n",
       "<tr><td>मोटा  </td><td>['मो', 'टा']      </td></tr>\n",
       "<tr><td>राजा  </td><td>['रा', 'जा']      </td></tr>\n",
       "<tr><td>अब    </td><td>['अ', 'ब']        </td></tr>\n",
       "<tr><td>दुबला  </td><td>['दु', 'ब', 'ला']  </td></tr>\n",
       "<tr><td>है!    </td><td>['है']             </td></tr>\n",
       "</tbody>\n",
       "</table>"
      ],
      "text/plain": [
       "<IPython.core.display.HTML object>"
      ]
     },
     "metadata": {},
     "output_type": "display_data"
    }
   ],
   "source": [
    "from IPython.display import HTML, display\n",
    "import tabulate\n",
    "display(HTML(tabulate.tabulate(results, tablefmt='html')))"
   ]
  },
  {
   "cell_type": "code",
   "execution_count": 16,
   "metadata": {},
   "outputs": [
    {
     "name": "stdout",
     "output_type": "stream",
     "text": [
      "words\n",
      "\t यह : 1\n",
      "\t है : 2\n",
      "\t मोटा : 4\n",
      "\t राजा : 6\n",
      "\t मोटे : 2\n",
      "\t का : 1\n",
      "\t दुबला : 3\n",
      "\t कुत्ता : 2\n",
      "\t व : 1\n",
      "\t घूमने : 1\n",
      "\t निकले : 1\n",
      "\t दुबले : 3\n",
      "\t कुत्ते : 3\n",
      "\t ने : 2\n",
      "\t चिड़िया : 1\n",
      "\t देखी : 1\n",
      "\t वह : 1\n",
      "\t उसके : 1\n",
      "\t पीछे : 2\n",
      "\t भागा : 2\n",
      "\t के : 1\n",
      "\t दोनों : 1\n",
      "\t भागे : 1\n",
      "\t और : 1\n",
      "\t कई : 1\n",
      "\t दिनों : 1\n",
      "\t तक : 1\n",
      "\t भागते : 1\n",
      "\t रहे! : 1\n",
      "\t को : 1\n",
      "\t पकड़ : 1\n",
      "\t ही : 1\n",
      "\t लिया : 1\n",
      "\t अब : 1\n",
      "\t है! : 1\n",
      "total words = 55\n",
      "unique words = 35\n",
      "\n",
      "syllables\n",
      "\t य : 1\n",
      "\t ह : 2\n",
      "\t है : 3\n",
      "\t मो : 6\n",
      "\t टा : 4\n",
      "\t रा : 6\n",
      "\t जा : 6\n",
      "\t टे : 2\n",
      "\t का : 1\n",
      "\t दु : 6\n",
      "\t ब : 7\n",
      "\t ला : 3\n",
      "\t कु : 5\n",
      "\t त्ता : 2\n",
      "\t व : 2\n",
      "\t घू : 1\n",
      "\t म : 1\n",
      "\t ने : 3\n",
      "\t नि : 1\n",
      "\t क : 4\n",
      "\t ले : 4\n",
      "\t त्ते : 3\n",
      "\t चि : 1\n",
      "\t ड़ि : 1\n",
      "\t या : 2\n",
      "\t दे : 1\n",
      "\t खी : 1\n",
      "\t उ : 1\n",
      "\t स : 1\n",
      "\t के : 2\n",
      "\t पी : 2\n",
      "\t छे : 2\n",
      "\t भा : 4\n",
      "\t गा : 2\n",
      "\t दो : 1\n",
      "\t नों : 2\n",
      "\t गे : 1\n",
      "\t औ : 1\n",
      "\t र : 2\n",
      "\t ई : 1\n",
      "\t दि : 1\n",
      "\t त : 1\n",
      "\t ग : 1\n",
      "\t ते : 1\n",
      "\t हे : 1\n",
      "\t को : 1\n",
      "\t प : 1\n",
      "\t ड़ : 1\n",
      "\t ही : 1\n",
      "\t लि : 1\n",
      "\t अ : 1\n",
      "total syllables = 112\n",
      "unique syllables = 51\n",
      "\n"
     ]
    }
   ],
   "source": [
    "stats = getSyllableStats(blob)\n",
    "for k, v in stats.items():\n",
    "    print (k)\n",
    "    for x, y in v.items():\n",
    "        print (\"\\t\", x, \":\", y)\n",
    "    print (\"total\", k, \"=\", sum(v.values()))\n",
    "    print (\"unique\", k, \"=\", len(v), end='\\n\\n')"
   ]
  },
  {
   "cell_type": "markdown",
   "metadata": {},
   "source": [
    "from this we observe that, there are 112 syllables and 55 words"
   ]
  },
  {
   "cell_type": "markdown",
   "metadata": {},
   "source": [
    " to check the readablity we will use the Flesch Reading Ease formula,\n",
    "\n",
    "Flesch Reading Ease = 206.835-(1.015xASL)-(84.5xASW)\n",
    "\n",
    "and Flesch-kincaid Grade-Level = (0.39xASL)+(11.8XASW)-15.59\n",
    "\n",
    "Where, ASL( = Total Number of words/Total number of sentences\n",
    "\n",
    "       ASW = Total syllable count/number of words"
   ]
  },
  {
   "cell_type": "code",
   "execution_count": 18,
   "metadata": {},
   "outputs": [],
   "source": [
    "def ASL (w,s):\n",
    "    ASL = w/s\n",
    "    return ASL"
   ]
  },
  {
   "cell_type": "code",
   "execution_count": 19,
   "metadata": {},
   "outputs": [],
   "source": [
    "def ASW(sy,w):\n",
    "    asw = sy/w\n",
    "    return asw"
   ]
  },
  {
   "cell_type": "code",
   "execution_count": 20,
   "metadata": {},
   "outputs": [],
   "source": [
    "def FRE(ASL,ASW):\n",
    "    flesch_reading_ease = 206.835-(1.015 * ASL)-(84.5 * ASW)\n",
    "    return flesch_reading_ease"
   ]
  },
  {
   "cell_type": "code",
   "execution_count": 21,
   "metadata": {},
   "outputs": [],
   "source": [
    "def FKGL(ASL,ASW):\n",
    "    flesch_kincaid_Grade_level = (0.39*ASL)+(11.8*ASW)-15.59\n",
    "    return flesch_kincaid_Grade_level"
   ]
  },
  {
   "cell_type": "code",
   "execution_count": 23,
   "metadata": {},
   "outputs": [
    {
     "data": {
      "text/plain": [
       "27.5"
      ]
     },
     "execution_count": 23,
     "metadata": {},
     "output_type": "execute_result"
    }
   ],
   "source": [
    "ASL(55,2)"
   ]
  },
  {
   "cell_type": "code",
   "execution_count": 24,
   "metadata": {},
   "outputs": [
    {
     "data": {
      "text/plain": [
       "2.036363636363636"
      ]
     },
     "execution_count": 24,
     "metadata": {},
     "output_type": "execute_result"
    }
   ],
   "source": [
    "ASW(112,55)"
   ]
  },
  {
   "cell_type": "code",
   "execution_count": 25,
   "metadata": {},
   "outputs": [
    {
     "data": {
      "text/plain": [
       "6.849772420000022"
      ]
     },
     "execution_count": 25,
     "metadata": {},
     "output_type": "execute_result"
    }
   ],
   "source": [
    "FRE(27.5,2.03636364)"
   ]
  },
  {
   "cell_type": "code",
   "execution_count": 26,
   "metadata": {},
   "outputs": [
    {
     "data": {
      "text/plain": [
       "19.164090952"
      ]
     },
     "execution_count": 26,
     "metadata": {},
     "output_type": "execute_result"
    }
   ],
   "source": [
    "FKGL(27.5,2.03636364)"
   ]
  },
  {
   "cell_type": "code",
   "execution_count": null,
   "metadata": {},
   "outputs": [],
   "source": [
    "Here,we observed that Flesch reading ease score lies between 0-29 and the Flesch kincaid grade level is 19.164.\n",
    "Then, the story is very confusing and can be read by the people who are graduated."
   ]
  }
 ],
 "metadata": {
  "kernelspec": {
   "display_name": "Python 3",
   "language": "python",
   "name": "python3"
  },
  "language_info": {
   "codemirror_mode": {
    "name": "ipython",
    "version": 3
   },
   "file_extension": ".py",
   "mimetype": "text/x-python",
   "name": "python",
   "nbconvert_exporter": "python",
   "pygments_lexer": "ipython3",
   "version": "3.6.4"
  }
 },
 "nbformat": 4,
 "nbformat_minor": 2
}
